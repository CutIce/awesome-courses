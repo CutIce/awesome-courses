{
 "cells": [
  {
   "cell_type": "code",
   "execution_count": null,
   "id": "510b42f0-032e-40e4-89c1-3e2fab6f88e1",
   "metadata": {},
   "outputs": [],
   "source": [
    "import torch\n",
    "import torchvision.utils.Dataset as Dataset\n",
    "\n",
    "device = \"cuda\" if torch.cuda.is_available() else 'cpu'\n",
    "\n"
   ]
  }
 ],
 "metadata": {
  "kernelspec": {
   "display_name": "Python 3 (ipykernel)",
   "language": "python",
   "name": "python3"
  },
  "language_info": {
   "codemirror_mode": {
    "name": "ipython",
    "version": 3
   },
   "file_extension": ".py",
   "mimetype": "text/x-python",
   "name": "python",
   "nbconvert_exporter": "python",
   "pygments_lexer": "ipython3",
   "version": "3.7.10"
  }
 },
 "nbformat": 4,
 "nbformat_minor": 5
}
