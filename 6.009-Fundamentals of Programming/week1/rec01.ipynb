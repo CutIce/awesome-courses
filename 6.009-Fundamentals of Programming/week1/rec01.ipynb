{
 "cells": [
  {
   "cell_type": "markdown",
   "metadata": {},
   "source": [
    "Even seasoned software programmers very rarely get their code right on the first try.  That's why it's so important to learn techniques of **testing** and **debugging**, which help us act as detectives, evaluating hypotheses about what in our code works properly and what doesn't.  Then we can act on those hypotheses to implement fixes.  This recitation is all about that detective process, focusing on the fundamentals.  Rather than adopting any fancy Python libraries, we'll see how to do it all with built-in features.\n",
    "\n",
    "# `backwards` Revisited\n",
    "\n",
    "Let's take a look at one of the first problems from Lab 0: reversing a sound.  Recall that a sound is a dictionary with keys `'rate'`, for number of samples per second; `'left'`, for a list of intensities in the left channel; and `'right'`, for a similar list for the right channel.\n",
    "\n",
    "Here is an implementation with a subtle flaw."
   ]
  },
  {
   "cell_type": "code",
   "execution_count": null,
   "metadata": {},
   "outputs": [],
   "source": [
    "def backwards(sound):\n",
    "    new_sound = sound.copy()     # Line 1\n",
    "    new_sound['left'].reverse()  # Line 2\n",
    "    new_sound['right'].reverse() # Line 3\n",
    "    return new_sound             # Line 4"
   ]
  },
  {
   "cell_type": "markdown",
   "metadata": {},
   "source": [
    "Let's do some sanity checking of our implementation.  The test cases we provide for each lab are often so large and complex that it is hard to understand what to do when one fails.  Therefore, it pays to write your own small tests!"
   ]
  },
  {
   "cell_type": "code",
   "execution_count": null,
   "metadata": {},
   "outputs": [],
   "source": [
    "def test_backwards():\n",
    "    input1 = {'rate': 10,\n",
    "              'left': [1, 2],\n",
    "              'right': [3, 4]}\n",
    "    output1 = {'rate': 10,\n",
    "               'left': [2, 1],\n",
    "               'right': [4, 3]}\n",
    "    assert backwards(input1) == output1\n",
    "    assert backwards(backwards(input1)) == input1\n",
    "    \n",
    "    input2 = {'rate': 10,\n",
    "              'left': [1, 2, 8],\n",
    "              'right': [3, 4, 9]}\n",
    "    output2 = {'rate': 10,\n",
    "               'left': [8, 2, 1],\n",
    "               'right': [9, 4, 3]}\n",
    "    assert backwards(input2) == output2"
   ]
  },
  {
   "cell_type": "code",
   "execution_count": null,
   "metadata": {},
   "outputs": [],
   "source": [
    "test_backwards()"
   ]
  },
  {
   "cell_type": "markdown",
   "metadata": {},
   "source": [
    "Things go wrong when we add the right new test case."
   ]
  },
  {
   "cell_type": "markdown",
   "metadata": {},
   "source": [
    "# Some Examples with Comprehensions\n",
    "\n",
    "Here's a somewhat awkward way to perform a simple computation."
   ]
  },
  {
   "cell_type": "code",
   "execution_count": null,
   "metadata": {},
   "outputs": [],
   "source": [
    "def subtract_lists(l1, l2):\n",
    "    \"\"\"Given l1 and l2 same-length lists of numbers,\n",
    "    return a new list where each position is the difference\n",
    "    between that position in l1 and in l2.\"\"\"\n",
    "    \n",
    "    output = []\n",
    "    for i in range(len(l1)):\n",
    "        output.append(l1[i] - l2[i])\n",
    "    return output"
   ]
  },
  {
   "cell_type": "code",
   "execution_count": null,
   "metadata": {},
   "outputs": [],
   "source": [
    "def test_subtract_lists():\n",
    "    assert subtract_lists([1, 2], [3, 5]) == [-2, -3]\n",
    "    assert subtract_lists([325, 64, 66], [1, 2, 3]) == [324, 62, 63]"
   ]
  },
  {
   "cell_type": "code",
   "execution_count": null,
   "metadata": {},
   "outputs": [],
   "source": [
    "test_subtract_lists()"
   ]
  },
  {
   "cell_type": "markdown",
   "metadata": {},
   "source": [
    "We can rewrite this function more succinctly using comprehensions and the `zip` function (a handy pair of Python features indeed).  Here those ingredients are used directly for one of the functions you wrote for Lab 0."
   ]
  },
  {
   "cell_type": "code",
   "execution_count": null,
   "metadata": {},
   "outputs": [],
   "source": [
    "def remove_vocals(sound):\n",
    "    new_sound = {\n",
    "        'rate': sound['rate'],                                                          # Line 1\n",
    "        'left': sound['left'][:],                                                       # Line 2\n",
    "        'right': sound['right'][:],                                                     # Line 3\n",
    "    }\n",
    "    new_sound['left'] = [l - r for l, r in zip(new_sound['left'], new_sound['right'])]  # Line 4\n",
    "    new_sound['right'] = [l - r for l, r in zip(new_sound['left'], new_sound['right'])] # Line 5\n",
    "    return new_sound                                                                    # Line 6"
   ]
  },
  {
   "cell_type": "markdown",
   "metadata": {},
   "source": [
    "A simple test case reveals a problem."
   ]
  },
  {
   "cell_type": "code",
   "execution_count": null,
   "metadata": {},
   "outputs": [],
   "source": [
    "def test_remove_vocals():\n",
    "    in1 = {'rate': 10,\n",
    "           'left': [1, 2, 3],\n",
    "           'right': [3, 4, 3]}\n",
    "    out1 = {'rate': 10,\n",
    "            'left': [-2, -2, 0],\n",
    "            'right': [-2, -2, 0]}\n",
    "    assert remove_vocals(in1) == out1"
   ]
  },
  {
   "cell_type": "code",
   "execution_count": null,
   "metadata": {},
   "outputs": [],
   "source": [
    "test_remove_vocals()"
   ]
  },
  {
   "cell_type": "markdown",
   "metadata": {},
   "source": [
    "Detective work ensues, at this point in class."
   ]
  },
  {
   "cell_type": "markdown",
   "metadata": {},
   "source": [
    "## Matrices\n",
    "\n",
    "Remember the handy multiplication operator for lists?"
   ]
  },
  {
   "cell_type": "code",
   "execution_count": null,
   "metadata": {},
   "outputs": [],
   "source": [
    "[1, 2, 3] * 3"
   ]
  },
  {
   "cell_type": "markdown",
   "metadata": {},
   "source": [
    "It can work well for initializing lists, as demonstrated here for nested lists."
   ]
  },
  {
   "cell_type": "code",
   "execution_count": null,
   "metadata": {},
   "outputs": [],
   "source": [
    "def x_matrix(n):\n",
    "    \"\"\"Return a nested list representing an n X n matrix,\n",
    "    where the locations on diagonals contain 'X'\n",
    "    and other locations contain spaces ' '.\"\"\"\n",
    "    matrix = [[' '] * n] * n   # Line 1\n",
    "    for i in range(n):         # Line 2\n",
    "        matrix[i][i] = 'X'     # Line 3\n",
    "        matrix[i][n-1-i] = 'X' # Line 4\n",
    "    return matrix              # Line 5"
   ]
  },
  {
   "cell_type": "code",
   "execution_count": null,
   "metadata": {},
   "outputs": [],
   "source": [
    "def test_x_matrix():\n",
    "    assert x_matrix(3) == [['X', ' ', 'X'],\n",
    "                           [' ', 'X', ' '],\n",
    "                           ['X', ' ', 'X']]\n",
    "    assert x_matrix(5) == [['X', ' ', ' ', ' ', 'X'],\n",
    "                           [' ', 'X', ' ', 'X', ' '],\n",
    "                           [' ', ' ', 'X', ' ', ' '],\n",
    "                           [' ', 'X', ' ', 'X', ' '],\n",
    "                           ['X', ' ', ' ', ' ', 'X']]"
   ]
  },
  {
   "cell_type": "code",
   "execution_count": null,
   "metadata": {},
   "outputs": [],
   "source": [
    "test_x_matrix()"
   ]
  },
  {
   "cell_type": "markdown",
   "metadata": {},
   "source": [
    "# An Echo of `echo`\n",
    "\n",
    "The `echo` function was probably the trickiest part of Lab 0.  Let's look at a simpler version that nonetheless illustrates the main challenges.  Be forewarned, this version has quite a few bugs, which we will work our way through fixing."
   ]
  },
  {
   "cell_type": "code",
   "execution_count": null,
   "metadata": {},
   "outputs": [],
   "source": [
    "def repeating_sound(sound, num_repeats, scale):\n",
    "    \"\"\"Create a new sound consisting of the original\n",
    "    plus num_repeats copies of it in order,\n",
    "    where the first copy has all positions multiplied by scale,\n",
    "    the second copy has all positions multiplied by scale*2,\n",
    "    the third by scale*3, etc.\"\"\"\n",
    "    def repeating_channel(ch):\n",
    "        \"\"\"Do the above for just one of the two channels (left and right),\n",
    "        passed in directly as a list.\"\"\"\n",
    "        for i in range(num_repeats):\n",
    "            ch += [n * scale for n in ch]\n",
    "            scale += scale\n",
    "    \n",
    "    return {'rate': sound['rate'],\n",
    "            'left': repeating_channel(sound['left']),\n",
    "            'right': repeating_channel(sound['right'])}\n",
    "\n",
    "# Menu of issues we'll watch out for, polling the class about which seem to be present as we fix issues.\n",
    "# Aliasing\n",
    "# Missing return\n",
    "# Off-by-one error\n",
    "# Scoping issue"
   ]
  },
  {
   "cell_type": "markdown",
   "metadata": {},
   "source": [
    "Let's try the simplest kind of test: adding *zero* repeated copies."
   ]
  },
  {
   "cell_type": "code",
   "execution_count": null,
   "metadata": {},
   "outputs": [],
   "source": [
    "def test_repeating_sound():\n",
    "    def run_test(input, num_repeats, scale, expected):\n",
    "        output = repeating_sound(input, num_repeats, scale)\n",
    "        assert output == expected\n",
    "    \n",
    "    in1 = {'rate': 10,\n",
    "           'left': [1, 2, 3],\n",
    "           'right': [3, 4, 3]}\n",
    "    run_test(in1, 0, 2, in1)"
   ]
  },
  {
   "cell_type": "code",
   "execution_count": null,
   "metadata": {},
   "outputs": [],
   "source": [
    "test_repeating_sound()"
   ]
  },
  {
   "cell_type": "markdown",
   "metadata": {},
   "source": [
    "Huh, even that simple test doesn't work!  Our debugging adventure begins here.\n",
    "\n",
    "# Bonus Example (if we have extra time)\n",
    "\n",
    "Here's a multi-bug example of an attempt at the full `echo` function from Lab 0."
   ]
  },
  {
   "cell_type": "code",
   "execution_count": null,
   "metadata": {},
   "outputs": [],
   "source": [
    "def echo(samples, sample_delay, num_echos, scale):\n",
    "    result_samples = [0] * (len(samples) + sample_delay*num_echos)\n",
    "\n",
    "    # the various delays after which echoes start\n",
    "    offsets = [sample_delay*i for i in range(num_echos+1)]\n",
    "    \n",
    "    # keep track of exponent for scale\n",
    "    count = 0\n",
    "\n",
    "    for i in offsets:\n",
    "        # Scale appropriately\n",
    "        scaled_samples = []\n",
    "        for i in samples:\n",
    "            scaled_samples.append(i * scale**count)\n",
    "        \n",
    "        # Insert delay\n",
    "        scaled_and_offset_samples = [0]*i + scaled_samples\n",
    "\n",
    "        # Mix\n",
    "        for i in scaled_and_offset_samples:\n",
    "            result_samples += i\n",
    "        \n",
    "        count += 1\n",
    "\n",
    "    return result_samples"
   ]
  },
  {
   "cell_type": "code",
   "execution_count": null,
   "metadata": {},
   "outputs": [],
   "source": [
    "def test_echo():\n",
    "    assert echo([1, 2, 3], 0, 0, 0) == [1, 2, 3]"
   ]
  },
  {
   "cell_type": "code",
   "execution_count": null,
   "metadata": {},
   "outputs": [],
   "source": [
    "test_echo()"
   ]
  }
 ],
 "metadata": {
  "kernelspec": {
   "display_name": "Python 3",
   "language": "python",
   "name": "python3"
  },
  "language_info": {
   "codemirror_mode": {
    "name": "ipython",
    "version": 3
   },
   "file_extension": ".py",
   "mimetype": "text/x-python",
   "name": "python",
   "nbconvert_exporter": "python",
   "pygments_lexer": "ipython3",
   "version": "3.8.5"
  }
 },
 "nbformat": 4,
 "nbformat_minor": 2
}
